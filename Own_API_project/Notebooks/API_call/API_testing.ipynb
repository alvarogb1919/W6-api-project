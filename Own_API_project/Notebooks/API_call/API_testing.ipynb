{
 "cells": [
  {
   "cell_type": "markdown",
   "id": "684bc39a",
   "metadata": {},
   "source": [
    "### In this notebook I will test that the API I have created works correctly"
   ]
  },
  {
   "cell_type": "code",
   "execution_count": 6,
   "id": "0da478d9",
   "metadata": {},
   "outputs": [],
   "source": [
    "import requests"
   ]
  },
  {
   "cell_type": "code",
   "execution_count": 13,
   "id": "afaa28fb",
   "metadata": {},
   "outputs": [],
   "source": [
    "import pandas as pd"
   ]
  },
  {
   "cell_type": "markdown",
   "id": "42f28ffa",
   "metadata": {},
   "source": [
    "### Let's try calling the list of all characters and their respective user_id in the chat"
   ]
  },
  {
   "cell_type": "code",
   "execution_count": 7,
   "id": "69796f76",
   "metadata": {},
   "outputs": [],
   "source": [
    "url = \"http://localhost:5000/users\""
   ]
  },
  {
   "cell_type": "code",
   "execution_count": 8,
   "id": "36918264",
   "metadata": {},
   "outputs": [],
   "source": [
    "res = requests.get(url)"
   ]
  },
  {
   "cell_type": "code",
   "execution_count": 14,
   "id": "4a96ec80",
   "metadata": {},
   "outputs": [],
   "source": [
    "data = res.json()"
   ]
  },
  {
   "cell_type": "code",
   "execution_count": 44,
   "id": "8e90427e",
   "metadata": {},
   "outputs": [
    {
     "data": {
      "text/plain": [
       "'[{\"user_id\":1,\"character_name\":\"Jim\"},{\"user_id\":2,\"character_name\":\"Dwight\"},{\"user_id\":3,\"character_name\":\"Pam\"},{\"user_id\":4,\"character_name\":\"Phyllis\"},{\"user_id\":5,\"character_name\":\"Stanley\"},{\"user_id\":6,\"character_name\":\"Michael\"},{\"user_id\":7,\"character_name\":\"Ryan\"},{\"user_id\":8,\"character_name\":\"Karen\"},{\"user_id\":9,\"character_name\":\"Creed\"},{\"user_id\":10,\"character_name\":\"Oscar\"},{\"user_id\":11,\"character_name\":\"Angela\"},{\"user_id\":12,\"character_name\":\"Kelly\"},{\"user_id\":13,\"character_name\":\"Andy\"},{\"user_id\":14,\"character_name\":\"Kevin\"},{\"user_id\":15,\"character_name\":\"Chad Lite\"},{\"user_id\":16,\"character_name\":\"Jamie\"},{\"user_id\":17,\"character_name\":\"Barbara\"},{\"user_id\":18,\"character_name\":\"School Official\"},{\"user_id\":19,\"character_name\":\"Barbara Allen\"},{\"user_id\":20,\"character_name\":\"Spanish Teacher\"},{\"user_id\":21,\"character_name\":\"Denise\"}]'"
      ]
     },
     "execution_count": 44,
     "metadata": {},
     "output_type": "execute_result"
    }
   ],
   "source": [
    "data"
   ]
  },
  {
   "cell_type": "markdown",
   "id": "3c9ed683",
   "metadata": {},
   "source": [
    "### Now let's try calling all the messages sent by Michael with user id 6"
   ]
  },
  {
   "cell_type": "code",
   "execution_count": 45,
   "id": "dbccb3bb",
   "metadata": {},
   "outputs": [],
   "source": [
    "url_2 = \"http://localhost:5000/user_messages/6\""
   ]
  },
  {
   "cell_type": "code",
   "execution_count": 46,
   "id": "94337d58",
   "metadata": {},
   "outputs": [],
   "source": [
    "res_2 = requests.get(url_2)"
   ]
  },
  {
   "cell_type": "code",
   "execution_count": 47,
   "id": "dc0ae6bf",
   "metadata": {},
   "outputs": [],
   "source": [
    "data_2 = res_2.json()"
   ]
  },
  {
   "cell_type": "code",
   "execution_count": 57,
   "id": "d53c01d8",
   "metadata": {},
   "outputs": [
    {
     "data": {
      "text/plain": [
       "'[{\"message_id\":15,\"message\":\"[on phone] It is disgusting.  I totally agree.  Well, we\\'re going to recalling all of that paper.'"
      ]
     },
     "execution_count": 57,
     "metadata": {},
     "output_type": "execute_result"
    }
   ],
   "source": [
    "data_2[:126]"
   ]
  },
  {
   "cell_type": "markdown",
   "id": "aa8d3ebf",
   "metadata": {},
   "source": [
    "### Now let's try calling the API and introducing a new message"
   ]
  },
  {
   "cell_type": "code",
   "execution_count": 58,
   "id": "41998637",
   "metadata": {},
   "outputs": [],
   "source": [
    "url_3 = \"http://localhost:5000/new_message\""
   ]
  },
  {
   "cell_type": "code",
   "execution_count": 59,
   "id": "283c8804",
   "metadata": {},
   "outputs": [],
   "source": [
    "message_content = { \"message\": \"I am the best character in the chat\",\n",
    "         \"user_id\": 6,\n",
    "         \"group_id\": 3  \n",
    "}"
   ]
  },
  {
   "cell_type": "code",
   "execution_count": 60,
   "id": "1ce23c32",
   "metadata": {},
   "outputs": [
    {
     "data": {
      "text/plain": [
       "b'Message has been correctly inserted'"
      ]
     },
     "execution_count": 60,
     "metadata": {},
     "output_type": "execute_result"
    }
   ],
   "source": [
    "new_message = requests.post(url_3,data=message_content)\n",
    "new_message.content"
   ]
  },
  {
   "cell_type": "markdown",
   "id": "40e7c7ad",
   "metadata": {},
   "source": [
    "### For some reason I couldn't make the output from calling the API into a nice DataFrame since it provided me a string and not a list. This will be updated once the issue is solved"
   ]
  },
  {
   "cell_type": "markdown",
   "id": "46101449",
   "metadata": {},
   "source": [
    "### However, we can clearly see that the API works correctly, being able to call it to get data from the SQL database we created and also to post data into the database"
   ]
  },
  {
   "cell_type": "code",
   "execution_count": null,
   "id": "dfd1742b",
   "metadata": {},
   "outputs": [],
   "source": []
  }
 ],
 "metadata": {
  "kernelspec": {
   "display_name": "ironhack",
   "language": "python",
   "name": "ironhack"
  },
  "language_info": {
   "codemirror_mode": {
    "name": "ipython",
    "version": 3
   },
   "file_extension": ".py",
   "mimetype": "text/x-python",
   "name": "python",
   "nbconvert_exporter": "python",
   "pygments_lexer": "ipython3",
   "version": "3.8.10"
  }
 },
 "nbformat": 4,
 "nbformat_minor": 5
}
